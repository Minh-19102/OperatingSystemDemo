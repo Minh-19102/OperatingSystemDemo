{
 "cells": [
  {
   "cell_type": "markdown",
   "id": "fdf4a01d",
   "metadata": {},
   "source": [
    "# Demo nguyên lý hệ điều hành\n",
    "Họ và tên: Đào Nhật Minh\n",
    "\n",
    "MSSV: 20200392\n",
    "\n",
    "Nội dung demo: Mô phỏng quá trình các phương pháp phân bố file"
   ]
  },
  {
   "cell_type": "markdown",
   "id": "ac9f7846",
   "metadata": {},
   "source": [
    "## Import thư viện"
   ]
  },
  {
   "cell_type": "code",
   "execution_count": 1,
   "id": "d9d8d489",
   "metadata": {},
   "outputs": [],
   "source": [
    "import matplotlib.pyplot as plt\n",
    "import numpy as np\n",
    "import pandas as pd\n",
    "import math\n",
    "import random\n",
    "from IPython.display import Video\n",
    "from matplotlib.animation import Animation, FuncAnimation, FFMpegWriter\n",
    "from matplotlib.patches import Rectangle, Arrow\n",
    "from matplotlib.transforms import Bbox"
   ]
  },
  {
   "cell_type": "markdown",
   "id": "a2b2fe7b",
   "metadata": {},
   "source": [
    "# Tạo các class dùng cho mô phỏng:\n",
    "1. Block: các khối trong bộ nhớ\n",
    "2. File: file lưu trữ\n",
    "3. ContiguousBlock: class con của Block, dùng trong phân bố liên tục\n",
    "4. ContiguousFile: file lưu bằng phân bố liên tục"
   ]
  },
  {
   "cell_type": "code",
   "execution_count": 2,
   "id": "991fb0db",
   "metadata": {},
   "outputs": [],
   "source": [
    "class Block:\n",
    "  def __init__(self) -> None:\n",
    "    pass\n",
    "  def setPosition(self, x, y):\n",
    "    self.x = x\n",
    "    self.y = y\n",
    "  def setPatch(self, patch):\n",
    "    self.patch = patch\n",
    "\n",
    "class File:\n",
    "    def __init__(self) -> None:\n",
    "        pass\n",
    "\n",
    "class ContiguousBlock(Block):\n",
    "  def __init__(self, free, label) -> None:\n",
    "    super().__init__()\n",
    "    self.free = free\n",
    "    self.label = label\n",
    "  def setState(self, free):\n",
    "    self.free = free\n",
    "\n",
    "class ContiguousFile(File):\n",
    "  def __init__(self, name, start, length) -> None:\n",
    "    super().__init__()\n",
    "    self.name = name\n",
    "    self.start = start\n",
    "    self.length = length\n",
    "    self.block = []\n",
    "  def setPatch(self, patch):\n",
    "    self.patch = patch\n",
    "  def get(self):\n",
    "    return [self.name, self.start, self.length]"
   ]
  },
  {
   "cell_type": "markdown",
   "id": "9f2209bd",
   "metadata": {},
   "source": [
    "## Contiguous Allocation\n",
    "### Hàm khởi tạo & reset "
   ]
  },
  {
   "cell_type": "code",
   "execution_count": 3,
   "id": "9177559f",
   "metadata": {},
   "outputs": [],
   "source": [
    "def resetValue():\n",
    "    global contiguousBlockWidth \n",
    "    contiguousBlockWidth = 4\n",
    "    global contiguousBlockHeight\n",
    "    contiguousBlockHeight = 1\n",
    "    global gap\n",
    "    gap = 0.5\n",
    "    global files \n",
    "    files = [\n",
    "        ContiguousFile(\"File1\", 0, 4),\n",
    "        ContiguousFile(\"File2\", 6, 1),\n",
    "        ContiguousFile(\"File3\", 14, 6),\n",
    "        ContiguousFile(\"File4\", 20, 3),\n",
    "    ]\n",
    "    global BlocksList\n",
    "    BlocksList = []\n",
    "\n",
    "def setViewRange(total_blocks):\n",
    "    global numberOfBlockPerLine\n",
    "    numberOfBlockPerLine = 10\n",
    "    global view_width\n",
    "    view_width = numberOfBlockPerLine * contiguousBlockWidth + gap * (numberOfBlockPerLine - 1)\n",
    "    global numberOfLine\n",
    "    numberOfLine = math.ceil(total_blocks / numberOfBlockPerLine)\n",
    "    global view_height\n",
    "    view_height = contiguousBlockHeight * (numberOfLine + 1) + gap * numberOfLine "
   ]
  },
  {
   "cell_type": "markdown",
   "id": "cababb5b",
   "metadata": {},
   "source": [
    "Tạo mới 1 thư mục đã lưu sẵn các file"
   ]
  },
  {
   "cell_type": "code",
   "execution_count": 4,
   "id": "6b1e5402",
   "metadata": {},
   "outputs": [
    {
     "data": {
      "image/png": "[encoded data removed]",
      "text/plain": [
       "<Figure size 1152x288 with 2 Axes>"
      ]
     },
     "metadata": {
      "needs_background": "light"
     },
     "output_type": "display_data"
    }
   ],
   "source": [
    "x_position = 0.0\n",
    "y_position = 0.0\n",
    "total_blocks = 30\n",
    "resetValue()\n",
    "setViewRange(total_blocks)\n",
    "fig, (ax1, ax2) = plt.subplots(1, 2, gridspec_kw={'width_ratios': [5, 1]}, figsize=(16, 4))\n",
    "ax1.set_xlim(-gap, view_width + gap)\n",
    "ax1.set_ylim(-gap, view_height + gap)\n",
    "ax2.set_ylim(-gap, view_height + gap)\n",
    "ax1.set_axis_off()\n",
    "ax2.set_axis_off()\n",
    "for count in range(total_blocks):\n",
    "  bl = ContiguousBlock(1, count)\n",
    "  bl.setPosition(x_position, y_position)\n",
    "  x_position += contiguousBlockWidth + 0.5\n",
    "  BlocksList.append(bl)\n",
    "  if x_position >= view_width:\n",
    "    y_position += contiguousBlockHeight + 0.5\n",
    "    x_position = 0.0\n",
    "  BlocksList[-1].setPatch(Rectangle((bl.x, bl.y), contiguousBlockWidth, contiguousBlockHeight, facecolor=\"green\"))\n",
    "  ax1.add_patch(BlocksList[-1].patch)\n",
    "  ax1.text(bl.x, bl.y + contiguousBlockHeight, bl.label)\n",
    "\n",
    "file_names = []\n",
    "file_start = []\n",
    "file_length = []\n",
    "for file in files:\n",
    "    for block_id in range(file.start, file.start + file.length):\n",
    "        BlocksList[block_id].setState(0)\n",
    "        BlocksList[block_id].patch.set(facecolor = \"red\")\n",
    "    data = file.get()\n",
    "    file_names.append(data[0])\n",
    "    file_start.append(data[1])\n",
    "    file_length.append(data[2])\n",
    "    \n",
    "df = pd.DataFrame(data={\"file\": file_names, \"start\": file_start, \"length\": file_length})\n",
    "ax2.table(cellText=df.values, colLabels=df.columns, loc = 'center')\n",
    "\n",
    "plt.show()"
   ]
  },
  {
   "cell_type": "markdown",
   "id": "5b823309",
   "metadata": {},
   "source": [
    "### Mô phỏng quá trình ghi file\n",
    "\n",
    "*Thao tác chỉ tập trung vào ghi file theo kiểu tuần tự, việc tìm kiếm không gian lưu trữ trống không thuộc phạm vi mô phỏng*"
   ]
  },
  {
   "cell_type": "code",
   "execution_count": 5,
   "id": "5de7474c",
   "metadata": {},
   "outputs": [
    {
     "name": "stdout",
     "output_type": "stream",
     "text": [
      "7\n",
      "4\n"
     ]
    }
   ],
   "source": [
    "metadata = dict(title='Movie Test', artist='Matplotlib')\n",
    "writer = FFMpegWriter(fps=3, metadata=metadata)\n",
    "cnt = 1\n",
    "new_file_length = [5, 2]\n",
    "tmp_patch_file = Rectangle((- gap, view_height - contiguousBlockHeight), \n",
    "                           (contiguousBlockWidth + gap) * new_file_length[0] + gap, \n",
    "                           contiguousBlockHeight + gap, facecolor=\"gray\")\n",
    "x_position = 0.0\n",
    "y_position = view_height - contiguousBlockHeight + gap/2\n",
    "new_block_list = []\n",
    "ax1.add_patch(tmp_patch_file)\n",
    "for count in range(10):\n",
    "    new_block_list.append(ContiguousBlock(1, count))\n",
    "    new_block_list[-1].setPatch(Rectangle((x_position, y_position), contiguousBlockWidth, \n",
    "                                          contiguousBlockHeight, facecolor=\"yellow\"))\n",
    "    x_position += contiguousBlockWidth + 0.5\n",
    "    ax1.add_patch(new_block_list[-1].patch)\n",
    "with writer.saving(fig, \"ContiguousAllocation.mp4\", 100):\n",
    "    for len_needed in new_file_length: \n",
    "        '''Init'''\n",
    "        for i in range(len_needed, 10):\n",
    "            new_block_list[i].patch.set_visible(0)\n",
    "        \n",
    "        ''' Find free space '''\n",
    "        free_length = 0\n",
    "        free_id = 0\n",
    "        for i in range(total_blocks):\n",
    "            if BlocksList[i].free: free_length += 1\n",
    "            else: free_length = 0\n",
    "            if free_length == len_needed:\n",
    "                free_id = i - len_needed + 1\n",
    "                break\n",
    "        print(free_id)\n",
    "        \n",
    "        ''' Allocation ''' \n",
    "        for i in range(len_needed):\n",
    "            new_block_position = new_block_list[i].patch.get_xy()\n",
    "            x0 = new_block_position[0] + contiguousBlockWidth / 2\n",
    "            y0 = new_block_position[1]\n",
    "            disk_position = BlocksList[free_id + i].patch.get_xy()\n",
    "            dx = disk_position[0] + contiguousBlockWidth / 2 - x0\n",
    "            dy = disk_position[1] + contiguousBlockHeight - y0\n",
    "            tmp_patch_arrow = Arrow(x0, y0, dx, dy)\n",
    "            ax1.add_patch(tmp_patch_arrow)\n",
    "            writer.grab_frame()\n",
    "            BlocksList[free_id + i].setState(0)\n",
    "            BlocksList[free_id + i].patch.set(facecolor = \"red\")\n",
    "            tmp_patch_arrow.remove()\n",
    "            writer.grab_frame()\n",
    "        \n",
    "        ''' Directory '''\n",
    "        files.append(ContiguousFile(\"new file\" + str(cnt), free_id, len_needed))\n",
    "        cnt += 1\n",
    "        df.loc[len(df.index)] = [files[-1].name, free_id, len_needed]\n",
    "        ax2.table(cellText=df.values, colLabels=df.columns, loc = 'center')\n",
    "        writer.grab_frame()"
   ]
  },
  {
   "cell_type": "markdown",
   "id": "2874a359",
   "metadata": {},
   "source": [
    "### Kết quả"
   ]
  },
  {
   "cell_type": "code",
   "execution_count": 6,
   "id": "645fdf31",
   "metadata": {
    "scrolled": true
   },
   "outputs": [
    {
     "data": {
      "text/html": [
       "<video src=\"ContiguousAllocation.mp4\" controls  width=\"980\"  height=\"480\">\n",
       "      Your browser does not support the <code>video</code> element.\n",
       "    </video>"
      ],
      "text/plain": [
       "<IPython.core.display.Video object>"
      ]
     },
     "execution_count": 6,
     "metadata": {},
     "output_type": "execute_result"
    }
   ],
   "source": [
    "Video(\"ContiguousAllocation.mp4\", width=980, height=480)"
   ]
  },
  {
   "cell_type": "code",
   "execution_count": null,
   "id": "c99b3394",
   "metadata": {},
   "outputs": [],
   "source": []
  }
 ],
 "metadata": {
  "kernelspec": {
   "display_name": "Python 3 (ipykernel)",
   "language": "python",
   "name": "python3"
  },
  "language_info": {
   "codemirror_mode": {
    "name": "ipython",
    "version": 3
   },
   "file_extension": ".py",
   "mimetype": "text/x-python",
   "name": "python",
   "nbconvert_exporter": "python",
   "pygments_lexer": "ipython3",
   "version": "3.9.7"
  },
  "vscode": {
   "interpreter": {
    "hash": "557782a3a194ee13a30880210256269ecb0365d742e842bf54ebfe528a411a1d"
   }
  }
 },
 "nbformat": 4,
 "nbformat_minor": 5
}
